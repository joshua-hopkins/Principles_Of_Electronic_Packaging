{
 "cells": [
  {
   "cell_type": "markdown",
   "metadata": {},
   "source": [
    "# Other Formulas Used (More or Less)"
   ]
  },
  {
   "cell_type": "markdown",
   "metadata": {},
   "source": [
    "### Parallel Inductance Formula\n",
    "$$\n",
    "L_{\\text{parallel}} = \\frac{L_p + M}{2}\n",
    "$$\n",
    "\n",
    "### Self-Inductance Formula\n",
    "$$\n",
    "L_{\\text{self}} = 0.002l \\left[ \\ln \\left( \\frac{2l}{r} \\right) - \\frac{3}{4} \\right]\n",
    "$$\n",
    "\n",
    "### Mutual Inductance Formula\n",
    "$$\n",
    "M = \\frac{\\mu l}{2\\pi} \\left[ \\ln \\left( \\frac{2l}{s} \\right) - 1 \\right]\n",
    "$$\n",
    "\n",
    "### Equivalent Inductance Formula\n",
    "$$\n",
    "L_{\\text{eq}} = L_1 + L_2 - 2M_{12}\n",
    "$$\n",
    "\n",
    "### Effective Inductance Formula\n",
    "$$\n",
    "L_{\\text{eff}} = \\frac{\\mu l}{2\\pi} \\cosh^{-1} \\left( \\frac{2s}{d} \\right)\n",
    "$$\n",
    "\n",
    "### Effective Inductance Formula\n",
    "$$\n",
    "L_{\\text{eff}} = \\frac{\\mu l s}{w}\n",
    "$$\n"
   ]
  },
  {
   "cell_type": "markdown",
   "metadata": {},
   "source": []
  }
 ],
 "metadata": {
  "language_info": {
   "name": "python"
  }
 },
 "nbformat": 4,
 "nbformat_minor": 2
}
